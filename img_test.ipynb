{
 "cells": [
  {
   "cell_type": "code",
   "execution_count": 5,
   "metadata": {},
   "outputs": [
    {
     "name": "stderr",
     "output_type": "stream",
     "text": [
      "/tmp/ipykernel_2844608/1243331925.py:30: FutureWarning: `multichannel` is a deprecated argument name for `structural_similarity`. It will be removed in version 1.0. Please use `channel_axis` instead.\n",
      "  s = metrics.structural_similarity(x,y, multichannel=True)\n"
     ]
    },
    {
     "name": "stdout",
     "output_type": "stream",
     "text": [
      "27.820268811043203\n",
      "0.8808939326592337\n",
      "1.2720274978540054\n"
     ]
    }
   ],
   "source": [
    "from skimage import metrics\n",
    "import cv2\n",
    "import numpy as np\n",
    "from PIL import Image\n",
    "from glob import glob\n",
    "\n",
    "psnr_hist = []\n",
    "ssim_hist = []\n",
    "nmi_hist = []\n",
    "\n",
    "path = '/home/hyeongsik/dataset/LFDOF/test_data/ground_truth/*'\n",
    "file_lst = glob('IFCNN_output/*')\n",
    "file_lst.sort()\n",
    "file_lst_gt = glob('/home/hyeongsik/dataset/LFDOF/test_data/ground_truth/*')\n",
    "file_lst_gt.sort()\n",
    "\n",
    "img1 = [np.array(Image.open(path)) for path in file_lst]\n",
    "img1_gt = [np.array(Image.open(path)) for path in file_lst_gt]\n",
    "img1_gt[0] = cv2.resize(img1_gt[0], [1008, 688], interpolation=cv2.INTER_NEAREST)\n",
    "for idx in range(len(img1_gt)):\n",
    "\n",
    "    x = img1[idx]\n",
    "    y = img1_gt[idx]\n",
    "\n",
    "    y = y[:,:,:3]\n",
    "\n",
    "    x = cv2.resize(x, [1008, 688], interpolation=cv2.INTER_NEAREST)\n",
    "    # print(x.shape, y.shape)\n",
    "    p = metrics.peak_signal_noise_ratio(x,y)\n",
    "    s = metrics.structural_similarity(x,y, multichannel=True)\n",
    "    nmi = metrics.normalized_mutual_information(x,y)\n",
    "\n",
    "    psnr_hist.append(p)\n",
    "    ssim_hist.append(s)\n",
    "    nmi_hist.append(nmi)\n",
    "\n",
    "print(np.mean(psnr_hist))\n",
    "print(np.mean(ssim_hist))\n",
    "print(np.mean(nmi_hist)) "
   ]
  }
 ],
 "metadata": {
  "kernelspec": {
   "display_name": "modulab",
   "language": "python",
   "name": "python3"
  },
  "language_info": {
   "codemirror_mode": {
    "name": "ipython",
    "version": 3
   },
   "file_extension": ".py",
   "mimetype": "text/x-python",
   "name": "python",
   "nbconvert_exporter": "python",
   "pygments_lexer": "ipython3",
   "version": "3.8.16"
  },
  "orig_nbformat": 4,
  "vscode": {
   "interpreter": {
    "hash": "bfd8bd7acf699693996f6d8e9a87fe43b2c63587dfba0e919b70387491a92f71"
   }
  }
 },
 "nbformat": 4,
 "nbformat_minor": 2
}
